{
 "cells": [
  {
   "cell_type": "markdown",
   "metadata": {},
   "source": [
    "# Self-Driving Car Engineer Nanodegree\n",
    "\n",
    "## Deep Learning\n",
    "\n",
    "## Project: Build a Traffic Sign Recognition Classifier\n",
    "\n",
    "In this notebook, a template is provided for you to implement your functionality in stages, which is required to successfully complete this project. If additional code is required that cannot be included in the notebook, be sure that the Python code is successfully imported and included in your submission if necessary. \n",
    "\n",
    "> **Note**: Once you have completed all of the code implementations, you need to finalize your work by exporting the iPython Notebook as an HTML document. Before exporting the notebook to html, all of the code cells need to have been run so that reviewers can see the final implementation and output. You can then export the notebook by using the menu above and navigating to  \\n\",\n",
    "    \"**File -> Download as -> HTML (.html)**. Include the finished document along with this notebook as your submission. \n",
    "\n",
    "In addition to implementing code, there is a writeup to complete. The writeup should be completed in a separate file, which can be either a markdown file or a pdf document. There is a [write up template](https://github.com/udacity/CarND-Traffic-Sign-Classifier-Project/blob/master/writeup_template.md) that can be used to guide the writing process. Completing the code template and writeup template will cover all of the [rubric points](https://review.udacity.com/#!/rubrics/481/view) for this project.\n",
    "\n",
    "The [rubric](https://review.udacity.com/#!/rubrics/481/view) contains \"Stand Out Suggestions\" for enhancing the project beyond the minimum requirements. The stand out suggestions are optional. If you decide to pursue the \"stand out suggestions\", you can include the code in this Ipython notebook and also discuss the results in the writeup file.\n",
    "\n",
    "\n",
    ">**Note:** Code and Markdown cells can be executed using the **Shift + Enter** keyboard shortcut. In addition, Markdown cells can be edited by typically double-clicking the cell to enter edit mode."
   ]
  },
  {
   "cell_type": "markdown",
   "metadata": {},
   "source": [
    "---\n",
    "## Step 0: Load The Data"
   ]
  },
  {
   "cell_type": "code",
   "execution_count": 2,
   "metadata": {
    "collapsed": true
   },
   "outputs": [],
   "source": [
    "import pickle\n",
    "import os\n",
    "import numpy as np\n",
    "import random\n",
    "import matplotlib.pyplot as plt\n",
    "import copy\n",
    "from skimage import transform\n",
    "from skimage.transform import warp, SimilarityTransform, AffineTransform\n",
    "from skimage import exposure"
   ]
  },
  {
   "cell_type": "code",
   "execution_count": 5,
   "metadata": {
    "collapsed": false
   },
   "outputs": [
    {
     "name": "stdout",
     "output_type": "stream",
     "text": [
      "\n",
      "Image Shape: (32, 32, 3)\n",
      "\n",
      "Training Set:   34799 samples\n",
      "Validation Set: 4410 samples\n",
      "Test Set:       12630 samples\n"
     ]
    }
   ],
   "source": [
    "# Load pickled data\n",
    "# TODO: Fill this in based on where you saved the training and testing data\n",
    "\n",
    "training_file = \"data/train.p\"\n",
    "validation_file= \"data/valid.p\"\n",
    "testing_file = \"data/test.p\"\n",
    "\n",
    "with open(training_file, mode='rb') as f:\n",
    "    train = pickle.load(f)\n",
    "with open(validation_file, mode='rb') as f:\n",
    "    valid = pickle.load(f)\n",
    "with open(testing_file, mode='rb') as f:\n",
    "    test = pickle.load(f)    \n",
    "    \n",
    "X_train, y_train = train['features'], train['labels']\n",
    "X_valid, y_valid = valid['features'], valid['labels']\n",
    "X_test, y_test = test['features'], test['labels']\n",
    "\n",
    "print()\n",
    "print(\"Image Shape: {}\".format(X_train[0].shape))\n",
    "print()\n",
    "print(\"Training Set:   {} samples\".format(len(X_train)))\n",
    "print(\"Validation Set: {} samples\".format(len(X_valid)))\n",
    "print(\"Test Set:       {} samples\".format(len(X_test)))"
   ]
  },
  {
   "cell_type": "markdown",
   "metadata": {},
   "source": [
    "---\n",
    "\n",
    "## Step 1: Dataset Summary & Exploration\n",
    "\n",
    "The pickled data is a dictionary with 4 key/value pairs:\n",
    "\n",
    "- `'features'` is a 4D array containing raw pixel data of the traffic sign images, (num examples, width, height, channels).\n",
    "- `'labels'` is a 1D array containing the label/class id of the traffic sign. The file `signnames.csv` contains id -> name mappings for each id.\n",
    "- `'sizes'` is a list containing tuples, (width, height) representing the original width and height the image.\n",
    "- `'coords'` is a list containing tuples, (x1, y1, x2, y2) representing coordinates of a bounding box around the sign in the image. **THESE COORDINATES ASSUME THE ORIGINAL IMAGE. THE PICKLED DATA CONTAINS RESIZED VERSIONS (32 by 32) OF THESE IMAGES**\n",
    "\n",
    "Complete the basic data summary below. Use python, numpy and/or pandas methods to calculate the data summary rather than hard coding the results. For example, the [pandas shape method](http://pandas.pydata.org/pandas-docs/stable/generated/pandas.DataFrame.shape.html) might be useful for calculating some of the summary results. "
   ]
  },
  {
   "cell_type": "markdown",
   "metadata": {},
   "source": [
    "### Provide a Basic Summary of the Data Set Using Python, Numpy and/or Pandas"
   ]
  },
  {
   "cell_type": "code",
   "execution_count": 19,
   "metadata": {
    "collapsed": false
   },
   "outputs": [
    {
     "name": "stdout",
     "output_type": "stream",
     "text": [
      "Number of training examples = 34799\n",
      "Number of validation examples = 4410\n",
      "Number of testing examples = 12630\n",
      "Image data shape = (32, 32, 3)\n",
      "Number of classes = 43\n"
     ]
    }
   ],
   "source": [
    "### Replace each question mark with the appropriate value. \n",
    "### Use python, pandas or numpy methods rather than hard coding the results\n",
    "\n",
    "# TODO: Number of training examples\n",
    "n_train = len(X_train)\n",
    "\n",
    "# TODO: Number of validation examples\n",
    "n_validation = len(X_valid)\n",
    "\n",
    "# TODO: Number of testing examples.\n",
    "n_test = len(X_test)\n",
    "\n",
    "# TODO: What's the shape of an traffic sign image?\n",
    "image_shape = X_train[0].shape\n",
    "\n",
    "# TODO: How many unique classes/labels there are in the dataset.\n",
    "n_classes = len(np.unique(y_train))\n",
    "\n",
    "print(\"Number of training examples =\", n_train)\n",
    "print(\"Number of validation examples =\", n_validation)\n",
    "print(\"Number of testing examples =\", n_test)\n",
    "print(\"Image data shape =\", image_shape)\n",
    "print(\"Number of classes =\", n_classes)"
   ]
  },
  {
   "cell_type": "markdown",
   "metadata": {},
   "source": [
    "### Include an exploratory visualization of the dataset"
   ]
  },
  {
   "cell_type": "markdown",
   "metadata": {},
   "source": [
    "Visualize the German Traffic Signs Dataset using the pickled file(s). This is open ended, suggestions include: plotting traffic sign images, plotting the count of each sign, etc. \n",
    "\n",
    "The [Matplotlib](http://matplotlib.org/) [examples](http://matplotlib.org/examples/index.html) and [gallery](http://matplotlib.org/gallery.html) pages are a great resource for doing visualizations in Python.\n",
    "\n",
    "**NOTE:** It's recommended you start with something simple first. If you wish to do more, come back to it after you've completed the rest of the sections. It can be interesting to look at the distribution of classes in the training, validation and test set. Is the distribution the same? Are there more examples of some classes than others?"
   ]
  },
  {
   "cell_type": "markdown",
   "metadata": {},
   "source": [
    "**Visualisation methods**\n",
    "(based on [this](https://medium.com/towards-data-science/convnets-series-image-processing-tools-of-the-trade-36e168836f0c) article from Medium):\n",
    "\n",
    "* Sample images visualization: we see a lot of too dark or too bright images right away.\n",
    "* Comparison of data distribution (bar charts)"
   ]
  },
  {
   "cell_type": "code",
   "execution_count": null,
   "metadata": {
    "collapsed": false
   },
   "outputs": [],
   "source": [
    "### Data exploration visualization code goes here.\n",
    "# Visualizations will be shown in the notebook.\n",
    "%matplotlib inline\n",
    "\n",
    "### Plot bar charts for the data\n",
    "fig, ax = plt.subplots(figsize=(10,5))\n",
    "width = 0.7\n",
    "\n",
    "unique_tr, counts = np.unique(y_train, return_counts=True)\n",
    "plt.bar(unique_tr, counts, width, alpha=0.5, label='train set', color='g')\n",
    "#plt.show()\n",
    "\n",
    "unique_v, counts_v = np.unique(y_valid, return_counts=True)\n",
    "plt.bar(unique_v, counts_v, width, alpha=0.5, label='validation set', color='r')\n",
    "#plt.show()\n",
    "\n",
    "unique_t, counts_t = np.unique(y_test, return_counts=True)\n",
    "plt.bar(unique_t, counts_t, width, alpha=0.5, label='test set', color='b')\n",
    "plt.legend(loc='upper right')\n",
    "plt.show()"
   ]
  },
  {
   "cell_type": "code",
   "execution_count": null,
   "metadata": {
    "collapsed": true
   },
   "outputs": [],
   "source": [
    "import csv\n",
    "from numpy import random\n",
    "\n",
    "with open('signnames.csv', 'r') as f:\n",
    "    reader = csv.reader(f)\n",
    "    next(reader, None)\n",
    "    sign_names = list(reader)\n",
    "\n",
    "X_train_norm = normalisation(X_train)\n",
    "    \n",
    "labels = np.unique(y_train)\n",
    "for label in labels:\n",
    "    label_indices = np.where(y_train==label)[0]\n",
    "    fig = plt.figure(figsize=(10, 10))\n",
    "    for i in range(10):\n",
    "        rand_index = random.choice(label_indices)\n",
    "        sub = fig.add_subplot(10, 10, i+1)\n",
    "        sub.imshow(X_train[rand_index], interpolation='nearest')\n",
    "        sub = fig.add_subplot(10, 10, i+11)\n",
    "        sub.imshow(X_train_norm[rand_index], interpolation='nearest')\n",
    "        #sub = fig.add_subplot(10, 10, i+21)\n",
    "        #sub.imshow(data_prep(X_train[rand_index]), interpolation='nearest')\n",
    "    plt.suptitle(sign_names[label][1])\n",
    "    plt.show() "
   ]
  },
  {
   "cell_type": "markdown",
   "metadata": {},
   "source": [
    "----\n",
    "\n",
    "## Step 2: Design and Test a Model Architecture\n",
    "\n",
    "Design and implement a deep learning model that learns to recognize traffic signs. Train and test your model on the [German Traffic Sign Dataset](http://benchmark.ini.rub.de/?section=gtsrb&subsection=dataset).\n",
    "\n",
    "The LeNet-5 implementation shown in the [classroom](https://classroom.udacity.com/nanodegrees/nd013/parts/fbf77062-5703-404e-b60c-95b78b2f3f9e/modules/6df7ae49-c61c-4bb2-a23e-6527e69209ec/lessons/601ae704-1035-4287-8b11-e2c2716217ad/concepts/d4aca031-508f-4e0b-b493-e7b706120f81) at the end of the CNN lesson is a solid starting point. You'll have to change the number of classes and possibly the preprocessing, but aside from that it's plug and play! \n",
    "\n",
    "With the LeNet-5 solution from the lecture, you should expect a validation set accuracy of about 0.89. To meet specifications, the validation set accuracy will need to be at least 0.93. It is possible to get an even higher accuracy, but 0.93 is the minimum for a successful project submission. \n",
    "\n",
    "There are various aspects to consider when thinking about this problem:\n",
    "\n",
    "- Neural network architecture (is the network over or underfitting?)\n",
    "- Play around preprocessing techniques (normalization, rgb to grayscale, etc)\n",
    "- Number of examples per label (some have more than others).\n",
    "- Generate fake data.\n",
    "\n",
    "Here is an example of a [published baseline model on this problem](http://yann.lecun.com/exdb/publis/pdf/sermanet-ijcnn-11.pdf). It's not required to be familiar with the approach used in the paper but, it's good practice to try to read papers like these."
   ]
  },
  {
   "cell_type": "markdown",
   "metadata": {},
   "source": [
    "### Pre-process the Data Set (normalization, grayscale, etc.)"
   ]
  },
  {
   "cell_type": "markdown",
   "metadata": {},
   "source": [
    "Minimally, the image data should be normalized so that the data has mean zero and equal variance. For image data, `(pixel - 128)/ 128` is a quick way to approximately normalize the data and can be used in this project. \n",
    "\n",
    "Other pre-processing steps are optional. You can try different techniques to see if it improves performance. \n",
    "\n",
    "Use the code cell (or multiple code cells, if necessary) to implement the first step of your project."
   ]
  },
  {
   "cell_type": "markdown",
   "metadata": {},
   "source": [
    "#### Data preprocessing\n",
    "\n",
    "The function `data_prep(X)` below has 3 steps:\n",
    "\n",
    "* Convert to grayscale using [formula](https://www.wikiwand.com/en/Grayscale#/Converting_color_to_grayscale):\n",
    "$Y = 0.299R + 0.587G + 0.114B$\n",
    "* Normalise the image\n",
    "* Apply Contrast Limited Adaptive Histogram Equalization ([CLAHE](http://scikit-image.org/docs/dev/api/skimage.exposure.html#skimage.exposure.equalize_adapthist)) from [skimage exposure package](http://scikit-image.org/docs/dev/api/skimage.exposure.html)\n"
   ]
  },
  {
   "cell_type": "code",
   "execution_count": 3,
   "metadata": {
    "collapsed": true
   },
   "outputs": [],
   "source": [
    "import cv2\n",
    "\n",
    "def brightness_normalisation(image):\n",
    "    image = image.astype(np.uint8)\n",
    "    image1 = cv2.cvtColor(image,cv2.COLOR_RGB2HSV)\n",
    "    a = 0.25*255\n",
    "    b = 0.75*255\n",
    "    X_max = np.amax(image1[:,:,2])\n",
    "    X_min = np.amin(image1[:,:,2])\n",
    "    image1[:,:,2] = a + (image1[:,:,2] - X_min)*(b - a)*1/(X_max - X_min+1)\n",
    "    image1 = cv2.cvtColor(image1,cv2.COLOR_HSV2RGB)\n",
    "    return image1\n",
    "\n",
    "def equalize_histogram(image):\n",
    "    image = image.astype(np.uint8)\n",
    "    img_yuv = cv2.cvtColor(image, cv2.COLOR_BGR2YUV)\n",
    "    \n",
    "    # equalize the histogram of the Y channel\n",
    "    clahe = cv2.createCLAHE(clipLimit=10.0, tileGridSize=(8,8))\n",
    "    img_yuv[:,:,0] = clahe.apply(img_yuv[:,:,0])\n",
    "    \n",
    "    # convert the YUV image back to RGB format\n",
    "    img_output = cv2.cvtColor(img_yuv, cv2.COLOR_YUV2BGR)\n",
    "    return img_output\n",
    "\n",
    "def normalisation(X):\n",
    "    X_n = np.empty(shape=X.shape)\n",
    "    a = 0.1\n",
    "    b = 0.9\n",
    "    for i, img in enumerate(X):\n",
    "        temp = equalize_histogram(img)\n",
    "        X_max = np.amax(temp)\n",
    "        X_min = np.amin(temp)\n",
    "        X_n[i] = a + (temp - X_min)*(b - a)/(X_max - X_min)\n",
    "    return X_n"
   ]
  },
  {
   "cell_type": "markdown",
   "metadata": {},
   "source": [
    "#### Data augmentation\n",
    "\n",
    "Functions: \n",
    "* `rotate_n(X)` - rotate image by `n` degrees\n",
    "* `flip_v(X)`, `flip_h(X)` - flip image vertically or horizontally"
   ]
  },
  {
   "cell_type": "code",
   "execution_count": 4,
   "metadata": {
    "collapsed": false
   },
   "outputs": [],
   "source": [
    "import cv2\n",
    "\n",
    "def augment_brightness(image):\n",
    "    image = image.astype(np.uint8)\n",
    "    image1 = cv2.cvtColor(image,cv2.COLOR_RGB2HSV)\n",
    "    random_bright = np.random.uniform(0.5, 1.5)\n",
    "    image1[:,:,2] = image1[:,:,2]*random_bright\n",
    "    image1 = cv2.cvtColor(image1,cv2.COLOR_HSV2RGB)\n",
    "    return image1\n",
    "\n",
    "def rotate_20rand(X):\n",
    "    return transform.rotate(X, angle=np.random.uniform(-20, 20), mode='edge')\n",
    "\n",
    "def translation(X):\n",
    "    return warp(X,\n",
    "                transform.SimilarityTransform(translation=(np.random.uniform(-2, 2), np.random.uniform(-2, 2))),\n",
    "                mode='edge')\n",
    "\n",
    "def affine_transform(X):\n",
    "    return warp(X,\n",
    "                transform.AffineTransform(scale=(np.random.uniform(0.8, 1.2), np.random.uniform(0.8, 1.2)), shear=np.random.uniform(0.0, 0.3)),\n",
    "                mode='edge')\n",
    " \n",
    "def image_augment(X):\n",
    "    dice = np.random.randint(1,6)\n",
    "    if dice == 1:\n",
    "        return 255*affine_transform(augment_brightness(X))\n",
    "    elif dice == 2:\n",
    "        return 255*translation(augment_brightness(X))\n",
    "    elif dice == 3:\n",
    "        return 255*rotate_20rand(augment_brightness(X))\n",
    "    elif dice == 4:\n",
    "        return 255*affine_transform(translation(X))\n",
    "    elif dice == 5:\n",
    "        return 255*translation(rotate_20rand(X))\n",
    "    else:\n",
    "        return 255*rotate_20rand(affine_transform(X))\n",
    "        "
   ]
  },
  {
   "cell_type": "code",
   "execution_count": 6,
   "metadata": {
    "collapsed": true
   },
   "outputs": [],
   "source": [
    "def set_augment(X):\n",
    "    X_aug = np.empty(shape=X.shape)\n",
    "    for i, img in enumerate(X):\n",
    "        X_aug[i] = image_augment(img)\n",
    "    return X_aug "
   ]
  },
  {
   "cell_type": "code",
   "execution_count": 7,
   "metadata": {
    "collapsed": false
   },
   "outputs": [
    {
     "name": "stdout",
     "output_type": "stream",
     "text": [
      "X_valid processing: done\n",
      "X_test processing: done\n",
      "Images are preprocessed.\n"
     ]
    }
   ],
   "source": [
    "#X_train = normalisation(X_train_big)\n",
    "#print(\"X_train processing: done\")\n",
    "X_valid = normalisation(X_valid)\n",
    "print(\"X_valid processing: done\")\n",
    "X_test = normalisation(X_test)\n",
    "print(\"X_test processing: done\")\n",
    "print('Images are preprocessed.')"
   ]
  },
  {
   "cell_type": "markdown",
   "metadata": {},
   "source": [
    "### Model Architecture\n",
    "\n",
    "#### Layer 1: Convolutional. \n",
    "* Input: 32x32x3\n",
    "* Filter: 5x5x18, valid padding\n",
    "* Output: 28x28x18\n",
    "* Activation: ReLU\n",
    "* Max pooling: ??, same padding\n",
    "\n",
    "#### Layer 2: Convolutional. \n",
    "* Input: 14x14x18\n",
    "* Filter: 3x3x48, valid padding\n",
    "* Output: 12x12x48\n",
    "* Activation: ReLU\n",
    "* Max pooling: ??, same padding\n",
    "\n",
    "#### Layer 3: Convolutional. \n",
    "* Input: 6x6x48\n",
    "* Filter: 3x3x96, valid padding\n",
    "* Output: 4x4x96\n",
    "* Activation: ReLU\n",
    "* Max pooling: ??, same padding\n",
    "\n",
    "#### Layer 4: Fully connected layer.\n",
    "* Input: Layer 1 + Layer 2 + Layer 3 = 5640\n",
    "* Output: 688\n",
    "* Activation: ReLU\n",
    "\n",
    "#### Layer 5: Fully connected layer.\n",
    "* Input: 688\n",
    "* Output: 86\n",
    "* Activation: ReLU\n",
    "\n",
    "#### Layer 6: Fully connected layer.\n",
    "* Input: 86\n",
    "* Output: 43"
   ]
  },
  {
   "cell_type": "code",
   "execution_count": 7,
   "metadata": {
    "collapsed": true
   },
   "outputs": [],
   "source": [
    "from sklearn.utils import shuffle\n",
    "\n",
    "X_train, y_train = shuffle(X_train, y_train)"
   ]
  },
  {
   "cell_type": "code",
   "execution_count": 8,
   "metadata": {
    "collapsed": false
   },
   "outputs": [],
   "source": [
    "import tensorflow as tf\n",
    "\n",
    "EPOCHS = 100\n",
    "BATCH_SIZE = 128"
   ]
  },
  {
   "cell_type": "code",
   "execution_count": 9,
   "metadata": {
    "collapsed": true
   },
   "outputs": [],
   "source": [
    "from tensorflow.contrib.layers import flatten\n",
    "\n",
    "def CovNet_3stage(x, keep_prob):    \n",
    "    # Arguments used for tf.truncated_normal, randomly defines variables for the weights and biases for each layer\n",
    "    mu = 0\n",
    "    sigma = 0.1\n",
    "    \n",
    "    f1_h = 5\n",
    "    f1_w = f1_h\n",
    "    \n",
    "    f2_h = 3\n",
    "    f2_w = f2_h\n",
    "    \n",
    "    W = {\n",
    "        'wc1': tf.Variable(tf.truncated_normal([f1_h, f1_w, 3, 18], mu, sigma)),\n",
    "        'wc2': tf.Variable(tf.truncated_normal([f2_h, f2_w, 18, 48], mu, sigma)),\n",
    "        'wc3': tf.Variable(tf.truncated_normal([f2_h, f2_w, 48, 96], mu, sigma)),\n",
    "        'wfc1': tf.Variable(tf.truncated_normal([5640, 688], mu, sigma)),\n",
    "        'wfc2': tf.Variable(tf.truncated_normal([688, 86], mu, sigma)),\n",
    "        'wfc3': tf.Variable(tf.truncated_normal([86, 43], mu, sigma)),}\n",
    "    b = {\n",
    "        'bc1': tf.Variable(tf.zeros([18])),\n",
    "        'bc2': tf.Variable(tf.zeros([48])),\n",
    "        'bc3': tf.Variable(tf.zeros([96])),\n",
    "        'bfc1': tf.Variable(tf.zeros([688])),\n",
    "        'bfc2': tf.Variable(tf.zeros([86])),\n",
    "        'bfc3': tf.Variable(tf.zeros([43]))}\n",
    "    \n",
    "    kp = 2\n",
    "    strides = [1, 1, 1, 1];\n",
    "    \n",
    "    # Layer 1: Convolutional. \n",
    "    # Input = 32x32x3. Filters: 5x5x18. Output = 28x28x18. ReLU Activation.\n",
    "    conv1 = tf.nn.conv2d(x, W['wc1'], strides=strides, padding='VALID')\n",
    "    conv1 = tf.nn.bias_add(conv1, b['bc1'])\n",
    "    conv1 = tf.nn.relu(conv1)\n",
    "\n",
    "    # Max Pooling. Input = 28x28x18. Output = 14x14x18.\n",
    "    conv1 = tf.nn.max_pool(conv1, [1, kp, kp, 1], [1, kp, kp, 1], padding='SAME')\n",
    "    \n",
    "    # Layer 2: Convolutional. \n",
    "    # Input = 14x14x18. Filters: 3x3x3. Output = 12x12x48. ReLU Activation.\n",
    "    conv2 = tf.nn.conv2d(conv1, W['wc2'], strides=strides, padding='VALID')\n",
    "    conv2 = tf.nn.bias_add(conv2, b['bc2'])\n",
    "    conv2 = tf.nn.relu(conv2)\n",
    "    \n",
    "    # Max Pooling. Input = 12x12x48. Output = 6x6x48.\n",
    "    conv2 = tf.nn.max_pool(conv2, [1, kp, kp, 1], [1, kp, kp, 1], padding='SAME')\n",
    "    \n",
    "    # Layer 3: Convolutional. \n",
    "    # Input = 6x6x48. Filters: 3x3x3. Output = 4x4x96. ReLU Activation.\n",
    "    conv3 = tf.nn.conv2d(conv2, W['wc3'], strides=strides, padding='VALID')\n",
    "    conv3 = tf.nn.bias_add(conv3, b['bc3'])\n",
    "    conv3 = tf.nn.relu(conv3)\n",
    "    \n",
    "    # Max Pooling. Input = 4x4x96. Output = 2x2x96.\n",
    "    conv3 = tf.nn.max_pool(conv3, [1, kp, kp, 1], [1, kp, kp, 1], padding='SAME')\n",
    "    \n",
    "    # Flatten. Input = 2x2x96 and 6x6x48 and 14x14x18. Output = 5640.\n",
    "    fc1_1 = tf.contrib.layers.flatten(conv1)\n",
    "    fc1_2 = tf.contrib.layers.flatten(conv2)\n",
    "    fc1_3 = tf.contrib.layers.flatten(conv3)\n",
    "    fc1 = tf.concat(1, [fc1_1, fc1_2, fc1_3])\n",
    "    \n",
    "    # Layer 4: Fully Connected. \n",
    "    # Input = 5640. Output = 688. ReLU Activation.\n",
    "    fc1 = tf.add(tf.matmul(fc1, W['wfc1']), b['bfc1'])\n",
    "    fc1 = tf.nn.relu(fc1)\n",
    "    \n",
    "    # Dropout\n",
    "    fc1 = tf.nn.dropout(fc1, keep_prob=keep_prob)\n",
    "    \n",
    "    # Layer 5: Fully Connected. \n",
    "    # Input = 688. Output = 86. ReLU Activation.\n",
    "    fc2 = tf.add(tf.matmul(fc1, W['wfc2']), b['bfc2']) \n",
    "    fc2 = tf.nn.relu(fc2)\n",
    "    \n",
    "    ## Dropout\n",
    "    fc2 = tf.nn.dropout(fc2, keep_prob=keep_prob)\n",
    "    \n",
    "    # Layer 6: Fully Connected. \n",
    "    # Input = 86. Output = 43.\n",
    "    logits = tf.add(tf.matmul(fc2, W['wfc3']), b['bfc3'])\n",
    "    \n",
    "    return logits"
   ]
  },
  {
   "cell_type": "markdown",
   "metadata": {},
   "source": [
    "### Train, Validate and Test the Model"
   ]
  },
  {
   "cell_type": "markdown",
   "metadata": {},
   "source": [
    "A validation set can be used to assess how well the model is performing. A low accuracy on the training and validation\n",
    "sets imply underfitting. A high accuracy on the training set but low accuracy on the validation set implies overfitting."
   ]
  },
  {
   "cell_type": "code",
   "execution_count": 10,
   "metadata": {
    "collapsed": true
   },
   "outputs": [],
   "source": [
    "### Train your model here.\n",
    "### Calculate and report the accuracy on the training and validation set.\n",
    "### Once a final model architecture is selected, \n",
    "### the accuracy on the test set should be calculated and reported as well.\n",
    "### Feel free to use as many code cells as needed.\n",
    "\n",
    "\n",
    "# Labels and features\n",
    "x = tf.placeholder(tf.float32, (None, 32, 32, 3))\n",
    "y = tf.placeholder(tf.int32, (None))\n",
    "one_hot_y = tf.one_hot(y, 43)\n",
    "\n",
    "# Dropout parameter\n",
    "keep_prob = tf.placeholder(tf.float32) # probability to keep units\n",
    "\n",
    "# Learning rate\n",
    "learning_rate = tf.placeholder(tf.float32, shape=[])\n",
    "rate = 0.001\n",
    "\n",
    "logits = CovNet_3stage(x, keep_prob)\n",
    "cross_entropy = tf.nn.softmax_cross_entropy_with_logits(labels=one_hot_y, logits=logits)\n",
    "loss_operation = tf.reduce_mean(cross_entropy)\n",
    "optimizer = tf.train.AdamOptimizer(learning_rate = learning_rate)\n",
    "training_operation = optimizer.minimize(loss_operation)"
   ]
  },
  {
   "cell_type": "code",
   "execution_count": 11,
   "metadata": {
    "collapsed": true
   },
   "outputs": [],
   "source": [
    "correct_prediction = tf.equal(tf.argmax(logits, 1), tf.argmax(one_hot_y, 1)) \n",
    "accuracy_operation = tf.reduce_mean(tf.cast(correct_prediction, tf.float32))\n",
    "saver = tf.train.Saver()\n",
    "\n",
    "def evaluate(X_data, y_data):\n",
    "    num_examples = len(X_data)\n",
    "    total_accuracy = 0\n",
    "    sess = tf.get_default_session()\n",
    "    for offset in range(0, num_examples, BATCH_SIZE):\n",
    "        batch_x, batch_y = X_data[offset:offset+BATCH_SIZE], y_data[offset:offset+BATCH_SIZE]\n",
    "        accuracy = sess.run(accuracy_operation, feed_dict={x: batch_x, y: batch_y, keep_prob: 1.0})\n",
    "        total_accuracy += (accuracy * len(batch_x))\n",
    "    return total_accuracy / num_examples"
   ]
  },
  {
   "cell_type": "code",
   "execution_count": 12,
   "metadata": {
    "collapsed": false
   },
   "outputs": [
    {
     "name": "stdout",
     "output_type": "stream",
     "text": [
      "Training...\n",
      "\n",
      "Train set augmented successfully\n",
      "EPOCH 1 ...\n",
      "Train Accuracy = 0.787\n",
      "Validation Accuracy = 0.793\n",
      "\n",
      "Train set augmented successfully\n",
      "EPOCH 2 ...\n",
      "Train Accuracy = 0.903\n",
      "Validation Accuracy = 0.927\n",
      "\n",
      "Train set augmented successfully\n",
      "EPOCH 3 ...\n",
      "Train Accuracy = 0.933\n",
      "Validation Accuracy = 0.956\n",
      "\n",
      "Train set augmented successfully\n",
      "EPOCH 4 ...\n",
      "Train Accuracy = 0.953\n",
      "Validation Accuracy = 0.967\n",
      "\n",
      "Train set augmented successfully\n",
      "EPOCH 5 ...\n",
      "Train Accuracy = 0.959\n",
      "Validation Accuracy = 0.978\n",
      "\n",
      "Train set augmented successfully\n",
      "EPOCH 6 ...\n",
      "Train Accuracy = 0.963\n",
      "Validation Accuracy = 0.973\n",
      "\n",
      "Train set augmented successfully\n",
      "EPOCH 7 ...\n",
      "Train Accuracy = 0.970\n",
      "Validation Accuracy = 0.972\n",
      "\n",
      "Train set augmented successfully\n",
      "EPOCH 8 ...\n",
      "Train Accuracy = 0.971\n",
      "Validation Accuracy = 0.974\n",
      "\n",
      "Train set augmented successfully\n",
      "EPOCH 9 ...\n",
      "Train Accuracy = 0.976\n",
      "Validation Accuracy = 0.982\n",
      "\n",
      "Train set augmented successfully\n",
      "EPOCH 10 ...\n",
      "Train Accuracy = 0.974\n",
      "Validation Accuracy = 0.980\n",
      "\n",
      "Train set augmented successfully\n",
      "EPOCH 11 ...\n",
      "Train Accuracy = 0.979\n",
      "Validation Accuracy = 0.977\n",
      "\n",
      "Train set augmented successfully\n",
      "EPOCH 12 ...\n",
      "Train Accuracy = 0.978\n",
      "Validation Accuracy = 0.975\n",
      "\n",
      "Train set augmented successfully\n",
      "EPOCH 13 ...\n",
      "Train Accuracy = 0.980\n",
      "Validation Accuracy = 0.979\n",
      "\n",
      "Train set augmented successfully\n",
      "EPOCH 14 ...\n",
      "Train Accuracy = 0.979\n",
      "Validation Accuracy = 0.976\n",
      "\n",
      "Train set augmented successfully\n",
      "EPOCH 15 ...\n",
      "Train Accuracy = 0.981\n",
      "Validation Accuracy = 0.981\n",
      "\n",
      "Train set augmented successfully\n",
      "EPOCH 16 ...\n",
      "Train Accuracy = 0.981\n",
      "Validation Accuracy = 0.977\n",
      "\n",
      "Train set augmented successfully\n",
      "EPOCH 17 ...\n",
      "Train Accuracy = 0.982\n",
      "Validation Accuracy = 0.977\n",
      "\n",
      "Train set augmented successfully\n",
      "EPOCH 18 ...\n",
      "Train Accuracy = 0.981\n",
      "Validation Accuracy = 0.979\n",
      "\n",
      "Train set augmented successfully\n",
      "EPOCH 19 ...\n",
      "Train Accuracy = 0.983\n",
      "Validation Accuracy = 0.981\n",
      "\n",
      "Train set augmented successfully\n",
      "EPOCH 20 ...\n",
      "Train Accuracy = 0.981\n",
      "Validation Accuracy = 0.976\n",
      "\n",
      "Train set augmented successfully\n",
      "EPOCH 21 ...\n",
      "Train Accuracy = 0.984\n",
      "Validation Accuracy = 0.980\n",
      "\n",
      "Train set augmented successfully\n",
      "EPOCH 22 ...\n",
      "Train Accuracy = 0.984\n",
      "Validation Accuracy = 0.982\n",
      "\n",
      "Train set augmented successfully\n",
      "EPOCH 23 ...\n",
      "Train Accuracy = 0.983\n",
      "Validation Accuracy = 0.983\n",
      "\n",
      "Train set augmented successfully\n",
      "EPOCH 24 ...\n",
      "Train Accuracy = 0.983\n",
      "Validation Accuracy = 0.978\n",
      "\n",
      "Train set augmented successfully\n",
      "EPOCH 25 ...\n",
      "Train Accuracy = 0.987\n",
      "Validation Accuracy = 0.978\n",
      "\n",
      "Learning rate:  0.0005\n",
      "Train set augmented successfully\n",
      "EPOCH 26 ...\n",
      "Train Accuracy = 0.987\n",
      "Validation Accuracy = 0.983\n",
      "\n",
      "Train set augmented successfully\n",
      "EPOCH 27 ...\n",
      "Train Accuracy = 0.988\n",
      "Validation Accuracy = 0.984\n",
      "\n",
      "Train set augmented successfully\n",
      "EPOCH 28 ...\n",
      "Train Accuracy = 0.988\n",
      "Validation Accuracy = 0.983\n",
      "\n",
      "Train set augmented successfully\n",
      "EPOCH 29 ...\n",
      "Train Accuracy = 0.988\n",
      "Validation Accuracy = 0.981\n",
      "\n",
      "Train set augmented successfully\n",
      "EPOCH 30 ...\n",
      "Train Accuracy = 0.988\n",
      "Validation Accuracy = 0.981\n",
      "\n",
      "Train set augmented successfully\n",
      "EPOCH 31 ...\n",
      "Train Accuracy = 0.989\n",
      "Validation Accuracy = 0.983\n",
      "\n",
      "Train set augmented successfully\n",
      "EPOCH 32 ...\n",
      "Train Accuracy = 0.989\n",
      "Validation Accuracy = 0.985\n",
      "\n",
      "Train set augmented successfully\n",
      "EPOCH 33 ...\n",
      "Train Accuracy = 0.990\n",
      "Validation Accuracy = 0.983\n",
      "\n",
      "Train set augmented successfully\n",
      "EPOCH 34 ...\n",
      "Train Accuracy = 0.990\n",
      "Validation Accuracy = 0.984\n",
      "\n",
      "Train set augmented successfully\n",
      "EPOCH 35 ...\n",
      "Train Accuracy = 0.989\n",
      "Validation Accuracy = 0.980\n",
      "\n",
      "Train set augmented successfully\n",
      "EPOCH 36 ...\n",
      "Train Accuracy = 0.990\n",
      "Validation Accuracy = 0.984\n",
      "\n",
      "Train set augmented successfully\n",
      "EPOCH 37 ...\n",
      "Train Accuracy = 0.989\n",
      "Validation Accuracy = 0.983\n",
      "\n",
      "Train set augmented successfully\n",
      "EPOCH 38 ...\n",
      "Train Accuracy = 0.990\n",
      "Validation Accuracy = 0.986\n",
      "\n",
      "Train set augmented successfully\n",
      "EPOCH 39 ...\n",
      "Train Accuracy = 0.990\n",
      "Validation Accuracy = 0.982\n",
      "\n",
      "Train set augmented successfully\n",
      "EPOCH 40 ...\n",
      "Train Accuracy = 0.991\n",
      "Validation Accuracy = 0.982\n",
      "\n",
      "Train set augmented successfully\n",
      "EPOCH 41 ...\n",
      "Train Accuracy = 0.991\n",
      "Validation Accuracy = 0.983\n",
      "\n",
      "Train set augmented successfully\n",
      "EPOCH 42 ...\n",
      "Train Accuracy = 0.991\n",
      "Validation Accuracy = 0.984\n",
      "\n",
      "Train set augmented successfully\n",
      "EPOCH 43 ...\n",
      "Train Accuracy = 0.991\n",
      "Validation Accuracy = 0.983\n",
      "\n",
      "Train set augmented successfully\n",
      "EPOCH 44 ...\n",
      "Train Accuracy = 0.991\n",
      "Validation Accuracy = 0.983\n",
      "\n",
      "Train set augmented successfully\n",
      "EPOCH 45 ...\n",
      "Train Accuracy = 0.991\n",
      "Validation Accuracy = 0.981\n",
      "\n",
      "Train set augmented successfully\n",
      "EPOCH 46 ...\n",
      "Train Accuracy = 0.992\n",
      "Validation Accuracy = 0.984\n",
      "\n",
      "Train set augmented successfully\n",
      "EPOCH 47 ...\n",
      "Train Accuracy = 0.992\n",
      "Validation Accuracy = 0.979\n",
      "\n",
      "Train set augmented successfully\n",
      "EPOCH 48 ...\n",
      "Train Accuracy = 0.992\n",
      "Validation Accuracy = 0.980\n",
      "\n",
      "Train set augmented successfully\n",
      "EPOCH 49 ...\n",
      "Train Accuracy = 0.992\n",
      "Validation Accuracy = 0.982\n",
      "\n",
      "Train set augmented successfully\n",
      "EPOCH 50 ...\n",
      "Train Accuracy = 0.991\n",
      "Validation Accuracy = 0.980\n",
      "\n",
      "Learning rate:  1e-05\n",
      "Train set augmented successfully\n",
      "EPOCH 51 ...\n",
      "Train Accuracy = 0.990\n",
      "Validation Accuracy = 0.982\n",
      "\n",
      "Train set augmented successfully\n",
      "EPOCH 52 ...\n",
      "Train Accuracy = 0.991\n",
      "Validation Accuracy = 0.982\n",
      "\n",
      "Train set augmented successfully\n",
      "EPOCH 53 ...\n",
      "Train Accuracy = 0.991\n",
      "Validation Accuracy = 0.982\n",
      "\n",
      "Train set augmented successfully\n",
      "EPOCH 54 ...\n",
      "Train Accuracy = 0.991\n",
      "Validation Accuracy = 0.983\n",
      "\n",
      "Train set augmented successfully\n",
      "EPOCH 55 ...\n",
      "Train Accuracy = 0.991\n",
      "Validation Accuracy = 0.984\n",
      "\n",
      "Train set augmented successfully\n",
      "EPOCH 56 ...\n",
      "Train Accuracy = 0.991\n",
      "Validation Accuracy = 0.983\n",
      "\n",
      "Train set augmented successfully\n",
      "EPOCH 57 ...\n",
      "Train Accuracy = 0.991\n",
      "Validation Accuracy = 0.983\n",
      "\n",
      "Train set augmented successfully\n",
      "EPOCH 58 ...\n",
      "Train Accuracy = 0.991\n",
      "Validation Accuracy = 0.983\n",
      "\n",
      "Train set augmented successfully\n",
      "EPOCH 59 ...\n",
      "Train Accuracy = 0.992\n",
      "Validation Accuracy = 0.983\n",
      "\n",
      "Train set augmented successfully\n",
      "EPOCH 60 ...\n",
      "Train Accuracy = 0.991\n",
      "Validation Accuracy = 0.983\n",
      "\n",
      "Train set augmented successfully\n",
      "EPOCH 61 ...\n",
      "Train Accuracy = 0.991\n",
      "Validation Accuracy = 0.983\n",
      "\n",
      "Train set augmented successfully\n",
      "EPOCH 62 ...\n",
      "Train Accuracy = 0.992\n",
      "Validation Accuracy = 0.983\n",
      "\n",
      "Train set augmented successfully\n",
      "EPOCH 63 ...\n",
      "Train Accuracy = 0.991\n",
      "Validation Accuracy = 0.983\n",
      "\n",
      "Train set augmented successfully\n",
      "EPOCH 64 ...\n",
      "Train Accuracy = 0.991\n",
      "Validation Accuracy = 0.984\n",
      "\n",
      "Train set augmented successfully\n",
      "EPOCH 65 ...\n",
      "Train Accuracy = 0.991\n",
      "Validation Accuracy = 0.983\n",
      "\n",
      "Train set augmented successfully\n",
      "EPOCH 66 ...\n",
      "Train Accuracy = 0.991\n",
      "Validation Accuracy = 0.982\n",
      "\n",
      "Train set augmented successfully\n",
      "EPOCH 67 ...\n",
      "Train Accuracy = 0.992\n",
      "Validation Accuracy = 0.983\n",
      "\n",
      "Train set augmented successfully\n",
      "EPOCH 68 ...\n",
      "Train Accuracy = 0.992\n",
      "Validation Accuracy = 0.984\n",
      "\n",
      "Train set augmented successfully\n",
      "EPOCH 69 ...\n",
      "Train Accuracy = 0.992\n",
      "Validation Accuracy = 0.983\n",
      "\n",
      "Train set augmented successfully\n",
      "EPOCH 70 ...\n",
      "Train Accuracy = 0.992\n",
      "Validation Accuracy = 0.984\n",
      "\n",
      "Train set augmented successfully\n",
      "EPOCH 71 ...\n",
      "Train Accuracy = 0.992\n",
      "Validation Accuracy = 0.983\n",
      "\n",
      "Train set augmented successfully\n",
      "EPOCH 72 ...\n",
      "Train Accuracy = 0.992\n",
      "Validation Accuracy = 0.984\n",
      "\n",
      "Train set augmented successfully\n",
      "EPOCH 73 ...\n",
      "Train Accuracy = 0.992\n",
      "Validation Accuracy = 0.983\n",
      "\n",
      "Train set augmented successfully\n",
      "EPOCH 74 ...\n",
      "Train Accuracy = 0.992\n",
      "Validation Accuracy = 0.983\n",
      "\n",
      "Train set augmented successfully\n",
      "EPOCH 75 ...\n",
      "Train Accuracy = 0.992\n",
      "Validation Accuracy = 0.983\n",
      "\n",
      "Train set augmented successfully\n",
      "EPOCH 76 ...\n",
      "Train Accuracy = 0.992\n",
      "Validation Accuracy = 0.983\n",
      "\n",
      "Learn original dataset with the same learning rate\n",
      "Train set augmented successfully\n",
      "EPOCH 77 ...\n",
      "Train Accuracy = 1.000\n",
      "Validation Accuracy = 0.984\n",
      "\n",
      "Learn original dataset with the same learning rate\n",
      "Train set augmented successfully\n",
      "EPOCH 78 ...\n",
      "Train Accuracy = 1.000\n",
      "Validation Accuracy = 0.984\n",
      "\n",
      "Learn original dataset with the same learning rate\n",
      "Train set augmented successfully\n",
      "EPOCH 79 ...\n",
      "Train Accuracy = 1.000\n",
      "Validation Accuracy = 0.984\n",
      "\n",
      "Learn original dataset with the same learning rate\n",
      "Train set augmented successfully\n",
      "EPOCH 80 ...\n",
      "Train Accuracy = 1.000\n",
      "Validation Accuracy = 0.984\n",
      "\n",
      "Learn original dataset with the same learning rate\n",
      "Train set augmented successfully\n",
      "EPOCH 81 ...\n",
      "Train Accuracy = 1.000\n",
      "Validation Accuracy = 0.984\n",
      "\n",
      "Learn original dataset with the same learning rate\n",
      "Train set augmented successfully\n",
      "EPOCH 82 ...\n",
      "Train Accuracy = 1.000\n",
      "Validation Accuracy = 0.984\n",
      "\n",
      "Learn original dataset with the same learning rate\n",
      "Train set augmented successfully\n",
      "EPOCH 83 ...\n",
      "Train Accuracy = 1.000\n",
      "Validation Accuracy = 0.985\n",
      "\n",
      "Learn original dataset with the same learning rate\n",
      "Train set augmented successfully\n",
      "EPOCH 84 ...\n",
      "Train Accuracy = 1.000\n",
      "Validation Accuracy = 0.984\n",
      "\n",
      "Learn original dataset with the same learning rate\n",
      "Train set augmented successfully\n",
      "EPOCH 85 ...\n",
      "Train Accuracy = 1.000\n",
      "Validation Accuracy = 0.985\n",
      "\n",
      "Learn original dataset with the same learning rate\n",
      "Train set augmented successfully\n",
      "EPOCH 86 ...\n",
      "Train Accuracy = 1.000\n",
      "Validation Accuracy = 0.984\n",
      "\n",
      "Learn original dataset with the same learning rate\n",
      "Train set augmented successfully\n",
      "EPOCH 87 ...\n",
      "Train Accuracy = 1.000\n",
      "Validation Accuracy = 0.984\n",
      "\n",
      "Learn original dataset with the same learning rate\n",
      "Train set augmented successfully\n",
      "EPOCH 88 ...\n",
      "Train Accuracy = 1.000\n",
      "Validation Accuracy = 0.984\n",
      "\n",
      "Learn original dataset with the same learning rate\n",
      "Train set augmented successfully\n",
      "EPOCH 89 ...\n",
      "Train Accuracy = 1.000\n",
      "Validation Accuracy = 0.984\n",
      "\n",
      "Learn original dataset with the same learning rate\n",
      "Train set augmented successfully\n",
      "EPOCH 90 ...\n",
      "Train Accuracy = 1.000\n",
      "Validation Accuracy = 0.984\n",
      "\n",
      "Learn original dataset with the same learning rate\n",
      "Train set augmented successfully\n",
      "EPOCH 91 ...\n",
      "Train Accuracy = 1.000\n",
      "Validation Accuracy = 0.983\n",
      "\n",
      "Learn original dataset with the same learning rate\n",
      "Train set augmented successfully\n",
      "EPOCH 92 ...\n",
      "Train Accuracy = 1.000\n",
      "Validation Accuracy = 0.984\n",
      "\n",
      "Learn original dataset with the same learning rate\n",
      "Train set augmented successfully\n",
      "EPOCH 93 ...\n",
      "Train Accuracy = 1.000\n",
      "Validation Accuracy = 0.984\n",
      "\n",
      "Learn original dataset with the same learning rate\n",
      "Train set augmented successfully\n",
      "EPOCH 94 ...\n",
      "Train Accuracy = 1.000\n",
      "Validation Accuracy = 0.984\n",
      "\n",
      "Learn original dataset with the same learning rate\n",
      "Train set augmented successfully\n",
      "EPOCH 95 ...\n",
      "Train Accuracy = 1.000\n",
      "Validation Accuracy = 0.984\n",
      "\n",
      "Learn original dataset with the same learning rate\n",
      "Train set augmented successfully\n",
      "EPOCH 96 ...\n",
      "Train Accuracy = 1.000\n",
      "Validation Accuracy = 0.983\n",
      "\n",
      "Learn original dataset with the same learning rate\n",
      "Train set augmented successfully\n",
      "EPOCH 97 ...\n",
      "Train Accuracy = 1.000\n",
      "Validation Accuracy = 0.984\n",
      "\n",
      "Learn original dataset with the same learning rate\n",
      "Train set augmented successfully\n",
      "EPOCH 98 ...\n",
      "Train Accuracy = 1.000\n",
      "Validation Accuracy = 0.985\n",
      "\n",
      "Learn original dataset with the same learning rate\n",
      "Train set augmented successfully\n",
      "EPOCH 99 ...\n",
      "Train Accuracy = 1.000\n",
      "Validation Accuracy = 0.985\n",
      "\n",
      "Learn original dataset with the same learning rate\n",
      "Train set augmented successfully\n",
      "EPOCH 100 ...\n",
      "Train Accuracy = 1.000\n",
      "Validation Accuracy = 0.985\n",
      "\n",
      "Model is saved\n"
     ]
    }
   ],
   "source": [
    "with tf.Session() as sess:\n",
    "    sess.run(tf.global_variables_initializer())\n",
    "    \n",
    "    print(\"Training...\")\n",
    "    print()\n",
    "    val = []\n",
    "    train = []\n",
    "    for i in range(EPOCHS):\n",
    "        X_train, y_train = shuffle(X_train, y_train)\n",
    "        \n",
    "        if (i > 75):\n",
    "            print(\"Learn original dataset with the same learning rate\")\n",
    "            rate = 0.00001\n",
    "            X_train_aug = X_train\n",
    "            X_train_aug_norm = normalisation(X_train_aug)\n",
    "            y_train_aug = y_train\n",
    "        else:\n",
    "            X_train_aug = np.vstack((X_train, set_augment(X_train)))\n",
    "            X_train_aug_norm = normalisation(X_train_aug)\n",
    "            y_train_aug = np.hstack((y_train, y_train))\n",
    "        if (i == 25):\n",
    "            rate = 0.0005\n",
    "            print(\"Learning rate: \", rate)\n",
    "        elif (i == 50):\n",
    "            rate = 0.00001\n",
    "            print(\"Learning rate: \", rate) \n",
    "\n",
    "        print(\"Train set augmented successfully\")\n",
    "        num_examples = len(X_train_aug_norm)\n",
    "        for offset in range(0, num_examples, BATCH_SIZE):\n",
    "            end = offset + BATCH_SIZE\n",
    "            batch_x, batch_y = X_train_aug_norm[offset:end], y_train_aug[offset:end]\n",
    "            sess.run(training_operation, feed_dict={x: batch_x, y: batch_y, keep_prob: 0.5, learning_rate: rate})   \n",
    "        train_accuracy = evaluate(X_train_aug_norm, y_train_aug)\n",
    "        validation_accuracy = evaluate(X_valid, y_valid)\n",
    "        val.append(validation_accuracy)\n",
    "        train.append(train_accuracy)\n",
    "        \n",
    "        print(\"EPOCH {} ...\".format(i+1))\n",
    "        print(\"Train Accuracy = {:.3f}\".format(train_accuracy))\n",
    "        print(\"Validation Accuracy = {:.3f}\".format(validation_accuracy))\n",
    "        print()   \n",
    "        \n",
    "    saver.save(sess, './3stages_rgb')\n",
    "    print(\"Model is saved\")"
   ]
  },
  {
   "cell_type": "code",
   "execution_count": 20,
   "metadata": {
    "collapsed": false
   },
   "outputs": [
    {
     "data": {
      "image/png": "[encoded data removed]",
      "text/plain": [
       "<matplotlib.figure.Figure at 0x7faeb091a518>"
      ]
     },
     "metadata": {},
     "output_type": "display_data"
    }
   ],
   "source": [
    "x_axis = range(1, EPOCHS+1)\n",
    "plt.axis([0, 100, 0.8, 1])\n",
    "plt.plot(x_axis, train, label='Train accuracy')\n",
    "plt.plot(x_axis, val, label='Validation accuracy')\n",
    "plt.legend(loc='lower right')\n",
    "plt.grid(True)\n",
    "plt.show()"
   ]
  },
  {
   "cell_type": "code",
   "execution_count": 12,
   "metadata": {
    "collapsed": false
   },
   "outputs": [
    {
     "name": "stdout",
     "output_type": "stream",
     "text": [
      "Test Accuracy = 0.986\n"
     ]
    }
   ],
   "source": [
    "with tf.Session() as sess:\n",
    "    saver.restore(sess, './3stages_rgb')\n",
    "\n",
    "    test_accuracy = evaluate(X_test, y_test)\n",
    "    print(\"Test Accuracy = {:.3f}\".format(test_accuracy))"
   ]
  },
  {
   "cell_type": "markdown",
   "metadata": {},
   "source": [
    "---\n",
    "\n",
    "## Step 3: Test a Model on New Images\n",
    "\n",
    "To give yourself more insight into how your model is working, download at least five pictures of German traffic signs from the web and use your model to predict the traffic sign type.\n",
    "\n",
    "You may find `signnames.csv` useful as it contains mappings from the class id (integer) to the actual sign name."
   ]
  },
  {
   "cell_type": "markdown",
   "metadata": {},
   "source": [
    "### Load and Output the Images"
   ]
  },
  {
   "cell_type": "code",
   "execution_count": 24,
   "metadata": {
    "collapsed": false
   },
   "outputs": [
    {
     "name": "stdout",
     "output_type": "stream",
     "text": [
      "(540, 346, 3)\n"
     ]
    },
    {
     "data": {
      "image/png": "[encoded data removed]",
      "text/plain": [
       "<matplotlib.figure.Figure at 0x7fd808707828>"
      ]
     },
     "metadata": {},
     "output_type": "display_data"
    },
    {
     "name": "stdout",
     "output_type": "stream",
     "text": [
      "(320, 450, 3)\n"
     ]
    },
    {
     "data": {
      "image/png": "[encoded data removed]",
      "text/plain": [
       "<matplotlib.figure.Figure at 0x7fd8085446d8>"
      ]
     },
     "metadata": {},
     "output_type": "display_data"
    },
    {
     "name": "stdout",
     "output_type": "stream",
     "text": [
      "(470, 290, 3)\n"
     ]
    },
    {
     "data": {
      "image/png": "[encoded data removed]",
      "text/plain": [
       "<matplotlib.figure.Figure at 0x7fd8086bd208>"
      ]
     },
     "metadata": {},
     "output_type": "display_data"
    },
    {
     "name": "stdout",
     "output_type": "stream",
     "text": [
      "(720, 1280, 3)\n"
     ]
    },
    {
     "data": {
      "image/png": "[encoded data removed]",
      "text/plain": [
       "<matplotlib.figure.Figure at 0x7fd8084eb470>"
      ]
     },
     "metadata": {},
     "output_type": "display_data"
    },
    {
     "name": "stdout",
     "output_type": "stream",
     "text": [
      "(470, 300, 3)\n"
     ]
    },
    {
     "data": {
      "image/png": "[encoded data removed]",
      "text/plain": [
       "<matplotlib.figure.Figure at 0x7fd808475748>"
      ]
     },
     "metadata": {},
     "output_type": "display_data"
    },
    {
     "name": "stdout",
     "output_type": "stream",
     "text": [
      "(478, 359, 3)\n"
     ]
    },
    {
     "data": {
      "image/png": "[encoded data removed]",
      "text/plain": [
       "<matplotlib.figure.Figure at 0x7fd808443e80>"
      ]
     },
     "metadata": {},
     "output_type": "display_data"
    },
    {
     "name": "stdout",
     "output_type": "stream",
     "text": [
      "(32, 32, 3)\n",
      "(192, 32, 3)\n"
     ]
    }
   ],
   "source": [
    "### Load the images and plot them here.\n",
    "### Feel free to use as many code cells as needed.\n",
    "\n",
    "def load_images_from_folder(folder):\n",
    "    images = []\n",
    "    for filename in os.listdir(folder):\n",
    "        img = cv2.imread(os.path.join(folder,filename))\n",
    "        if img is not None:\n",
    "            images.append(img)\n",
    "    return images\n",
    "\n",
    "images = load_images_from_folder('test_images/')\n",
    "\n",
    "for i, image in enumerate(images):\n",
    "    temp = np.copy(image)\n",
    "    temp = cv2.cvtColor(temp, cv2.COLOR_BGR2RGB)\n",
    "    images[i] = cv2.resize(temp, (32, 32)) \n",
    "    print(image.shape)\n",
    "    plt.figure(figsize=(1,1))\n",
    "    plt.imshow(images[i])\n",
    "    plt.show()\n",
    "print(images[0].shape)\n",
    "im = np.vstack(images)\n",
    "print(im.shape)\n"
   ]
  },
  {
   "cell_type": "markdown",
   "metadata": {},
   "source": [
    "### Predict the Sign Type for Each Image"
   ]
  },
  {
   "cell_type": "code",
   "execution_count": null,
   "metadata": {
    "collapsed": true
   },
   "outputs": [],
   "source": [
    "### Run the predictions here and use the model to output the prediction for each image.\n",
    "### Make sure to pre-process the images with the same pre-processing pipeline used earlier.\n",
    "### Feel free to use as many code cells as needed."
   ]
  },
  {
   "cell_type": "markdown",
   "metadata": {},
   "source": [
    "### Analyze Performance"
   ]
  },
  {
   "cell_type": "code",
   "execution_count": null,
   "metadata": {
    "collapsed": true
   },
   "outputs": [],
   "source": [
    "### Calculate the accuracy for these 5 new images. \n",
    "### For example, if the model predicted 1 out of 5 signs correctly, it's 20% accurate on these new images."
   ]
  },
  {
   "cell_type": "markdown",
   "metadata": {},
   "source": [
    "### Output Top 5 Softmax Probabilities For Each Image Found on the Web"
   ]
  },
  {
   "cell_type": "markdown",
   "metadata": {},
   "source": [
    "For each of the new images, print out the model's softmax probabilities to show the **certainty** of the model's predictions (limit the output to the top 5 probabilities for each image). [`tf.nn.top_k`](https://www.tensorflow.org/versions/r0.12/api_docs/python/nn.html#top_k) could prove helpful here. \n",
    "\n",
    "The example below demonstrates how tf.nn.top_k can be used to find the top k predictions for each image.\n",
    "\n",
    "`tf.nn.top_k` will return the values and indices (class ids) of the top k predictions. So if k=3, for each sign, it'll return the 3 largest probabilities (out of a possible 43) and the correspoding class ids.\n",
    "\n",
    "Take this numpy array as an example. The values in the array represent predictions. The array contains softmax probabilities for five candidate images with six possible classes. `tf.nn.top_k` is used to choose the three classes with the highest probability:\n",
    "\n",
    "```\n",
    "# (5, 6) array\n",
    "a = np.array([[ 0.24879643,  0.07032244,  0.12641572,  0.34763842,  0.07893497,\n",
    "         0.12789202],\n",
    "       [ 0.28086119,  0.27569815,  0.08594638,  0.0178669 ,  0.18063401,\n",
    "         0.15899337],\n",
    "       [ 0.26076848,  0.23664738,  0.08020603,  0.07001922,  0.1134371 ,\n",
    "         0.23892179],\n",
    "       [ 0.11943333,  0.29198961,  0.02605103,  0.26234032,  0.1351348 ,\n",
    "         0.16505091],\n",
    "       [ 0.09561176,  0.34396535,  0.0643941 ,  0.16240774,  0.24206137,\n",
    "         0.09155967]])\n",
    "```\n",
    "\n",
    "Running it through `sess.run(tf.nn.top_k(tf.constant(a), k=3))` produces:\n",
    "\n",
    "```\n",
    "TopKV2(values=array([[ 0.34763842,  0.24879643,  0.12789202],\n",
    "       [ 0.28086119,  0.27569815,  0.18063401],\n",
    "       [ 0.26076848,  0.23892179,  0.23664738],\n",
    "       [ 0.29198961,  0.26234032,  0.16505091],\n",
    "       [ 0.34396535,  0.24206137,  0.16240774]]), indices=array([[3, 0, 5],\n",
    "       [0, 1, 4],\n",
    "       [0, 5, 1],\n",
    "       [1, 3, 5],\n",
    "       [1, 4, 3]], dtype=int32))\n",
    "```\n",
    "\n",
    "Looking just at the first row we get `[ 0.34763842,  0.24879643,  0.12789202]`, you can confirm these are the 3 largest probabilities in `a`. You'll also notice `[3, 0, 5]` are the corresponding indices."
   ]
  },
  {
   "cell_type": "code",
   "execution_count": null,
   "metadata": {
    "collapsed": true
   },
   "outputs": [],
   "source": [
    "### Print out the top five softmax probabilities for the predictions on the German traffic sign images found on the web. \n",
    "### Feel free to use as many code cells as needed."
   ]
  },
  {
   "cell_type": "markdown",
   "metadata": {},
   "source": [
    "### Project Writeup\n",
    "\n",
    "Once you have completed the code implementation, document your results in a project writeup using this [template](https://github.com/udacity/CarND-Traffic-Sign-Classifier-Project/blob/master/writeup_template.md) as a guide. The writeup can be in a markdown or pdf file. "
   ]
  },
  {
   "cell_type": "markdown",
   "metadata": {},
   "source": [
    "> **Note**: Once you have completed all of the code implementations and successfully answered each question above, you may finalize your work by exporting the iPython Notebook as an HTML document. You can do this by using the menu above and navigating to  \\n\",\n",
    "    \"**File -> Download as -> HTML (.html)**. Include the finished document along with this notebook as your submission."
   ]
  },
  {
   "cell_type": "markdown",
   "metadata": {},
   "source": [
    "---\n",
    "\n",
    "## Step 4 (Optional): Visualize the Neural Network's State with Test Images\n",
    "\n",
    " This Section is not required to complete but acts as an additional excersise for understaning the output of a neural network's weights. While neural networks can be a great learning device they are often referred to as a black box. We can understand what the weights of a neural network look like better by plotting their feature maps. After successfully training your neural network you can see what it's feature maps look like by plotting the output of the network's weight layers in response to a test stimuli image. From these plotted feature maps, it's possible to see what characteristics of an image the network finds interesting. For a sign, maybe the inner network feature maps react with high activation to the sign's boundary outline or to the contrast in the sign's painted symbol.\n",
    "\n",
    " Provided for you below is the function code that allows you to get the visualization output of any tensorflow weight layer you want. The inputs to the function should be a stimuli image, one used during training or a new one you provided, and then the tensorflow variable name that represents the layer's state during the training process, for instance if you wanted to see what the [LeNet lab's](https://classroom.udacity.com/nanodegrees/nd013/parts/fbf77062-5703-404e-b60c-95b78b2f3f9e/modules/6df7ae49-c61c-4bb2-a23e-6527e69209ec/lessons/601ae704-1035-4287-8b11-e2c2716217ad/concepts/d4aca031-508f-4e0b-b493-e7b706120f81) feature maps looked like for it's second convolutional layer you could enter conv2 as the tf_activation variable.\n",
    "\n",
    "For an example of what feature map outputs look like, check out NVIDIA's results in their paper [End-to-End Deep Learning for Self-Driving Cars](https://devblogs.nvidia.com/parallelforall/deep-learning-self-driving-cars/) in the section Visualization of internal CNN State. NVIDIA was able to show that their network's inner weights had high activations to road boundary lines by comparing feature maps from an image with a clear path to one without. Try experimenting with a similar test to show that your trained network's weights are looking for interesting features, whether it's looking at differences in feature maps from images with or without a sign, or even what feature maps look like in a trained network vs a completely untrained one on the same sign image.\n",
    "\n",
    "<figure>\n",
    " <img src=\"visualize_cnn.png\" width=\"380\" alt=\"Combined Image\" />\n",
    " <figcaption>\n",
    " <p></p> \n",
    " <p style=\"text-align: center;\"> Your output should look something like this (above)</p> \n",
    " </figcaption>\n",
    "</figure>\n",
    " <p></p> \n"
   ]
  },
  {
   "cell_type": "code",
   "execution_count": null,
   "metadata": {
    "collapsed": true
   },
   "outputs": [],
   "source": [
    "### Visualize your network's feature maps here.\n",
    "### Feel free to use as many code cells as needed.\n",
    "\n",
    "# image_input: the test image being fed into the network to produce the feature maps\n",
    "# tf_activation: should be a tf variable name used during your training procedure that represents the calculated state of a specific weight layer\n",
    "# activation_min/max: can be used to view the activation contrast in more detail, by default matplot sets min and max to the actual min and max values of the output\n",
    "# plt_num: used to plot out multiple different weight feature map sets on the same block, just extend the plt number for each new feature map entry\n",
    "\n",
    "def outputFeatureMap(image_input, tf_activation, activation_min=-1, activation_max=-1 ,plt_num=1):\n",
    "    # Here make sure to preprocess your image_input in a way your network expects\n",
    "    # with size, normalization, ect if needed\n",
    "    # image_input =\n",
    "    # Note: x should be the same name as your network's tensorflow data placeholder variable\n",
    "    # If you get an error tf_activation is not defined it may be having trouble accessing the variable from inside a function\n",
    "    activation = tf_activation.eval(session=sess,feed_dict={x : image_input})\n",
    "    featuremaps = activation.shape[3]\n",
    "    plt.figure(plt_num, figsize=(15,15))\n",
    "    for featuremap in range(featuremaps):\n",
    "        plt.subplot(6,8, featuremap+1) # sets the number of feature maps to show on each row and column\n",
    "        plt.title('FeatureMap ' + str(featuremap)) # displays the feature map number\n",
    "        if activation_min != -1 & activation_max != -1:\n",
    "            plt.imshow(activation[0,:,:, featuremap], interpolation=\"nearest\", vmin =activation_min, vmax=activation_max, cmap=\"gray\")\n",
    "        elif activation_max != -1:\n",
    "            plt.imshow(activation[0,:,:, featuremap], interpolation=\"nearest\", vmax=activation_max, cmap=\"gray\")\n",
    "        elif activation_min !=-1:\n",
    "            plt.imshow(activation[0,:,:, featuremap], interpolation=\"nearest\", vmin=activation_min, cmap=\"gray\")\n",
    "        else:\n",
    "            plt.imshow(activation[0,:,:, featuremap], interpolation=\"nearest\", cmap=\"gray\")"
   ]
  }
 ],
 "metadata": {
  "anaconda-cloud": {},
  "kernelspec": {
   "display_name": "Python [conda env:carnd-term1]",
   "language": "python",
   "name": "conda-env-carnd-term1-py"
  },
  "language_info": {
   "codemirror_mode": {
    "name": "ipython",
    "version": 3
   },
   "file_extension": ".py",
   "mimetype": "text/x-python",
   "name": "python",
   "nbconvert_exporter": "python",
   "pygments_lexer": "ipython3",
   "version": "3.5.2"
  }
 },
 "nbformat": 4,
 "nbformat_minor": 1
}
